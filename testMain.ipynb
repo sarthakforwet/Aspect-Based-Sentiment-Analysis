{
 "cells": [
  {
   "cell_type": "code",
   "execution_count": 1,
   "id": "729d1dd8-4276-4308-bd85-cf952e6c82fa",
   "metadata": {},
   "outputs": [
    {
     "name": "stderr",
     "output_type": "stream",
     "text": [
      "2022-03-23 14:06:03.430425: W tensorflow/stream_executor/platform/default/dso_loader.cc:64] Could not load dynamic library 'libcudart.so.11.0'; dlerror: libcudart.so.11.0: cannot open shared object file: No such file or directory\n",
      "2022-03-23 14:06:03.430462: I tensorflow/stream_executor/cuda/cudart_stub.cc:29] Ignore above cudart dlerror if you do not have a GPU set up on your machine.\n"
     ]
    }
   ],
   "source": [
    "#from main import SentimentAnalysis\n",
    "import pandas as pd\n",
    "import time\n",
    "\n",
    "import spacy\n",
    "sp = spacy.load(\"en_core_web_sm\")\n",
    "from textblob import TextBlob\n",
    "\n",
    "from nltk.tag.stanford import StanfordPOSTagger as POS_Tag\n",
    "import nltk\n",
    "#nltk.download('vader_lexicon')\n",
    "#nltk.download('brown')\n",
    "\n",
    "from nltk import word_tokenize\n",
    "from nltk.corpus import stopwords\n",
    "from nltk.sentiment.vader import SentimentIntensityAnalyzer\n",
    "sid = SentimentIntensityAnalyzer()\n",
    "\n",
    "from textblob import Word\n",
    "stop_words = stopwords.words(\"english\")\n",
    "lemma = nltk.wordnet.WordNetLemmatizer()"
   ]
  },
  {
   "cell_type": "code",
   "execution_count": 2,
   "id": "dfb2a302-b30a-4f31-bf03-aaa157cccfd3",
   "metadata": {},
   "outputs": [
    {
     "name": "stderr",
     "output_type": "stream",
     "text": [
      "[nltk_data] Downloading package punkt to /home/sarthak/nltk_data...\n",
      "[nltk_data]   Package punkt is already up-to-date!\n"
     ]
    }
   ],
   "source": [
    "home = r'./stanford-postagger-full'\n",
    "#To tag using stanford pos tagger\n",
    "nltk.download('punkt')\n",
    "\n",
    "_path_to_model = home + '/models/english-bidirectional-distsim.tagger'\n",
    "_path_to_jar = home + '/stanford-postagger.jar'\n",
    "\n",
    "stanford_tag = POS_Tag(model_filename=_path_to_model, path_to_jar=_path_to_jar)"
   ]
  },
  {
   "cell_type": "code",
   "execution_count": 3,
   "id": "82a1c225-7184-4550-a797-53f74a82d9be",
   "metadata": {},
   "outputs": [],
   "source": [
    "def posTag(review):\n",
    "    return stanford_tag.tag(word_tokenize(review))\n",
    "\n",
    "def getAspects(sen):\n",
    "    rows = []\n",
    "    aspect_tags = [\"NN\", \"NNS\", \"NNP\", \"NNPS\"]\n",
    "    target = []\n",
    "    tagged_sen = posTag(sen)\n",
    "    for word, token in tagged_sen:\n",
    "        if token in aspect_tags:\n",
    "            target.append(word)\n",
    "                \n",
    "    return \", \".join([e for e in target])"
   ]
  },
  {
   "cell_type": "markdown",
   "id": "d5225a45-1c8a-4f86-9f40-b37f37e0c7a3",
   "metadata": {},
   "source": [
    "# Extracting sentiments using sentence split and contrast word split."
   ]
  },
  {
   "cell_type": "code",
   "execution_count": 4,
   "id": "666ebbfb-a64e-4279-b685-8b6f8d0dd66e",
   "metadata": {},
   "outputs": [],
   "source": [
    "# Run two times.\n",
    "for _ in range(2):\n",
    "    for i, e in enumerate(stop_words):\n",
    "        if e[0]==\"n\":\n",
    "            del stop_words[i]"
   ]
  },
  {
   "cell_type": "code",
   "execution_count": 5,
   "id": "a3a79838-6714-4a0c-a60e-aa14673eb199",
   "metadata": {},
   "outputs": [],
   "source": [
    "for e in stop_words:\n",
    "    if e[0]==\"n\":\n",
    "        print(e)"
   ]
  },
  {
   "cell_type": "code",
   "execution_count": 6,
   "id": "7f5a5696-a065-4620-96e6-3350e00fb23c",
   "metadata": {},
   "outputs": [],
   "source": [
    "contrast_words = [\"on the contrary\",\n",
    "\"yet\",\n",
    "\"but\",\n",
    "\"still\",\n",
    "\"in comparison\",\n",
    "\"rather\",\n",
    "\"nor\",\n",
    "\"conversely\",\n",
    "\"at the same time\",\n",
    "\"however\",\n",
    "\"nevertheless\",\n",
    "\"despite\",\n",
    "#\"though\",\n",
    "\"otherwise\",\n",
    "\"by contrast\",\n",
    "#\"instead\",\n",
    "\"whereas\",\n",
    "\"unlike\",\n",
    "\"although\",\n",
    "\"in contrast\",\n",
    "\"notwithstanding\",\n",
    "\"in spite of\",\n",
    "\"alternatively\",\n",
    "\"despite this\",\n",
    "\"in contrast to\",\n",
    "\"in contrast with\"]\n",
    "\n",
    "def getSentiments(reviewDf):\n",
    "    sentences = []\n",
    "    for row in reviewDf.iterrows():\n",
    "        row = row[1]\n",
    "        a = row[\"review_clean\"].split(\". \")\n",
    "        for e in a:\n",
    "            e = e.strip()\n",
    "            if len(e.split(\" \"))<3:\n",
    "                continue\n",
    "            sentences.append(e)\n",
    "    \n",
    "    \n",
    "    polarity = []\n",
    "    subjectivity = []\n",
    "    sens = []\n",
    "    aspects = []\n",
    "    #noAspects = []\n",
    "    outDf = pd.DataFrame()\n",
    "    \n",
    "    for i, sen in enumerate(sentences):\n",
    "        #row = row[1]\n",
    "        flag = 0\n",
    "        sen = sen.lower()\n",
    "        for e in contrast_words:\n",
    "            x = []\n",
    "            if len(e.split(\" \"))==1:\n",
    "                senList = sen.split(\" \")\n",
    "                if e in senList:\n",
    "                    flag = 1\n",
    "                    x = [\" \".join([i for i in senList[:senList.index(e)]]), \" \".join([i for i in senList[senList.index(e)+1:]])]\n",
    "            \n",
    "            else:\n",
    "                if e in sen:\n",
    "                    flag = 1\n",
    "                    x = sen.split(e)\n",
    "\n",
    "            for each in x:\n",
    "                each = each.strip()\n",
    "                if len(each.split(\" \"))<3:\n",
    "                    continue\n",
    "                \n",
    "                # Performing Stop Word Removal.\n",
    "                tokenizeSen = word_tokenize(each)\n",
    "                stopSen = [wrd for wrd in tokenizeSen if not wrd.lower() in stop_words]\n",
    "                    \n",
    "                # Lemmatizing the sentence.\n",
    "                lemSen = \" \".join([lemma.lemmatize(wrd, \"v\") for wrd in stopSen])\n",
    "                \n",
    "                asp = getAspects(each)\n",
    "                #if asp=='':\n",
    "                #    noAspects.append(each)\n",
    "                #    continue\n",
    "                    \n",
    "                aspects.append(asp)\n",
    "                blob = TextBlob(lemSen)\n",
    "                sentiment = blob.sentiment\n",
    "                polarity.append(sentiment.polarity)\n",
    "                subjectivity.append(sentiment.subjectivity)\n",
    "                sens.append(each)\n",
    "\n",
    "        if not flag:\n",
    "            # Performing Stop Word Removal.\n",
    "            tokenizeSen = word_tokenize(sen)\n",
    "            stopSen = [wrd for wrd in tokenizeSen if not wrd.lower() in stop_words]\n",
    "                    \n",
    "            # Lemmatizing the sentence.\n",
    "            lemSen = \" \".join([lemma.lemmatize(wrd, \"v\") for wrd in stopSen])\n",
    "            \n",
    "            asp = getAspects(sen)\n",
    "            #if asp=='':\n",
    "            #    noAspects.append(sen)\n",
    "            #    continue\n",
    "\n",
    "            aspects.append(asp)\n",
    "            blob = TextBlob(lemSen)\n",
    "            #blob = blob.correct() # Spelling correction.\n",
    "            sentiment = blob.sentiment\n",
    "            polarity.append(sentiment.polarity)\n",
    "            subjectivity.append(sentiment.subjectivity)\n",
    "            sens.append(sen)\n",
    "    \n",
    "    outDf[\"sentence\"] = sens\n",
    "    outDf[\"polarity\"] = polarity\n",
    "    outDf[\"subjectivity\"] = subjectivity\n",
    "    outDf[\"aspects\"] = aspects\n",
    "    \n",
    "    print(f\"Length of collected data: {len(reviewDf)}\")\n",
    "    print(f\"Length of final data: {len(outDf)}\")\n",
    "    \n",
    "    return outDf"
   ]
  },
  {
   "cell_type": "code",
   "execution_count": 7,
   "id": "f2217dd0-4b18-45b2-ad43-0b7a8c780d86",
   "metadata": {},
   "outputs": [],
   "source": [
    "reviewDf = pd.read_csv(\"testReviewsEskilstuna.csv\")"
   ]
  },
  {
   "cell_type": "code",
   "execution_count": 8,
   "id": "5d08823c-365b-4e16-a445-97666f607349",
   "metadata": {},
   "outputs": [
    {
     "name": "stdout",
     "output_type": "stream",
     "text": [
      "Length of collected data: 590\n",
      "Length of final data: 728\n"
     ]
    }
   ],
   "source": [
    "outDf = getSentiments(reviewDf)"
   ]
  },
  {
   "cell_type": "code",
   "execution_count": 9,
   "id": "7f440c1c-706c-4701-b353-0d25c3e13e8e",
   "metadata": {},
   "outputs": [],
   "source": [
    "# outDf.to_csv(\"eskilstuna aspects sentiments.csv\", index=None)\n",
    "#outDf.to_csv(\"eskilstuna aspects sentiments_5.csv\", index=None)\n",
    "outDf.to_csv(\"eskilstuna aspects sentiments_stpWrd_5.csv\", index=None)"
   ]
  },
  {
   "cell_type": "code",
   "execution_count": 182,
   "id": "39d382b0-9f87-413b-bada-11d08fbad90b",
   "metadata": {},
   "outputs": [
    {
     "name": "stdout",
     "output_type": "stream",
     "text": [
      "Length of collected data: 590\n",
      "Length of final data: 643\n"
     ]
    }
   ],
   "source": [
    "# Using VADER Method.\n",
    "sentences = []\n",
    "for row in reviewDf.iterrows():\n",
    "    row = row[1]\n",
    "    a = row[\"review_clean\"].split(\". \")\n",
    "    for e in a:\n",
    "        e = e.strip()\n",
    "        if len(e.split(\" \"))<3:\n",
    "            continue\n",
    "        sentences.append(e)\n",
    "    \n",
    "    #polarity = []\n",
    "positive = []\n",
    "negative = []\n",
    "neutral = []\n",
    "    #subjectivity = []\n",
    "sens = []\n",
    "aspects = []\n",
    "noAspects = []\n",
    "outDf = pd.DataFrame()\n",
    "for i, sen in enumerate(sentences):\n",
    "    #row = row[1]\n",
    "    flag = 0\n",
    "    sen = sen.lower()\n",
    "    for e in contrast_words:\n",
    "        x = []\n",
    "        if len(e.split(\" \"))==1:\n",
    "            senList = sen.split(\" \")\n",
    "            if e in senList:\n",
    "                flag = 1\n",
    "                x = [\" \".join([i for i in senList[:senList.index(e)]]), \" \".join([i for i in senList[senList.index(e)+1:]])]\n",
    "            \n",
    "        else:\n",
    "            if e in sen:\n",
    "                flag = 1\n",
    "                x = sen.split(e)\n",
    "\n",
    "        for each in x:\n",
    "            each = each.strip()\n",
    "            if len(each.split(\" \"))<3:\n",
    "                continue\n",
    "                \n",
    "            asp = getAspects(each)\n",
    "            if asp=='':\n",
    "                noAspects.append(each)\n",
    "                continue\n",
    "                    \n",
    "            aspects.append(asp)\n",
    "                #sentiment = TextBlob(each).sentiment\n",
    "                #polarity.append(sentiment.polarity)\n",
    "                #subjectivity.append(sentiment.subjectivity)\n",
    "            scores = sid.polarity_scores(each)\n",
    "            positive.append(scores[\"pos\"])\n",
    "            negative.append(scores[\"neg\"])\n",
    "            neutral.append(scores[\"neu\"])\n",
    "            sens.append(each)\n",
    "\n",
    "    if not flag:\n",
    "        asp = getAspects(sen)\n",
    "        if asp=='':\n",
    "            noAspects.append(sen)\n",
    "            continue\n",
    "\n",
    "        aspects.append(asp)\n",
    "        scores = sid.polarity_scores(sen)\n",
    "        positive.append(scores[\"pos\"])\n",
    "        negative.append(scores[\"neg\"])\n",
    "        neutral.append(scores[\"neu\"])\n",
    "        sens.append(sen)\n",
    "    \n",
    "outDf[\"sentence\"] = sens\n",
    "outDf[\"positive\"] = positive\n",
    "outDf[\"negative\"] = negative\n",
    "outDf[\"neutral\"] = neutral\n",
    "outDf[\"aspects\"] = aspects\n",
    "    \n",
    "print(f\"Length of collected data: {len(reviewDf)}\")\n",
    "print(f\"Length of final data: {len(outDf)}\")"
   ]
  },
  {
   "cell_type": "code",
   "execution_count": 184,
   "id": "b7ad19c6-33ac-46eb-921a-7e48cb3383e0",
   "metadata": {},
   "outputs": [],
   "source": [
    "outDf.to_csv(\"sentiment_eskilstuna_output_vader.csv\", index=None)"
   ]
  },
  {
   "cell_type": "markdown",
   "id": "024ab226-8231-41b4-b12f-8cbe48b3db4b",
   "metadata": {},
   "source": [
    "# Testing the module"
   ]
  },
  {
   "cell_type": "code",
   "execution_count": 1,
   "id": "d3a83773-87a7-4295-9254-cee26cbacd57",
   "metadata": {},
   "outputs": [],
   "source": [
    "import time"
   ]
  },
  {
   "cell_type": "code",
   "execution_count": 2,
   "id": "85359fd3-8626-4f9b-9ebd-b5a1d2e1fd00",
   "metadata": {},
   "outputs": [
    {
     "name": "stderr",
     "output_type": "stream",
     "text": [
      "[nltk_data] Downloading package punkt to /home/sarthak/nltk_data...\n",
      "[nltk_data]   Package punkt is already up-to-date!\n"
     ]
    },
    {
     "name": "stdout",
     "output_type": "stream",
     "text": [
      "Loaded model utils...\n",
      "Collecting Data...\n",
      "Structuring Reviews...\n",
      "Processing Reviews to remove noise...\n",
      "Getting Sentiments...\n",
      "Length of collected data: 114\n",
      "Length of final data: 139\n"
     ]
    },
    {
     "data": {
      "image/png": "[encoded data removed]",
      "text/plain": [
       "<Figure size 432x432 with 1 Axes>"
      ]
     },
     "metadata": {},
     "output_type": "display_data"
    },
    {
     "name": "stderr",
     "output_type": "stream",
     "text": [
      "/home/sarthak/Code/env/lib/python3.8/site-packages/pandas/util/_decorators.py:311: SettingWithCopyWarning: \n",
      "A value is trying to be set on a copy of a slice from a DataFrame\n",
      "\n",
      "See the caveats in the documentation: https://pandas.pydata.org/pandas-docs/stable/user_guide/indexing.html#returning-a-view-versus-a-copy\n",
      "  return func(*args, **kwargs)\n"
     ]
    },
    {
     "data": {
      "image/png": "[encoded data removed]",
      "text/plain": [
       "<Figure size 432x432 with 1 Axes>"
      ]
     },
     "metadata": {},
     "output_type": "display_data"
    },
    {
     "name": "stdout",
     "output_type": "stream",
     "text": [
      "Total Time Taken: 4.34 mins\n"
     ]
    }
   ],
   "source": [
    "# Testing the module for ChopCHop Eskilstuna.\n",
    "start = time.time()\n",
    "url = \"https://www.google.com/maps/place/ChopChop+Asian+Express/@59.3905008,16.4658164,15z/data=!4m5!3m4!1s0x0:0xb7f5c8a9d6cf8e01!8m2!3d59.390509!4d16.465848\"\n",
    "from main import get_aspect_reviews\n",
    "obj = get_aspect_reviews(url, datetime=6)\n",
    "obj.outDf.to_csv(\"eskilstuna_sentiments.csv\", index=None)\n",
    "stop = time.time()\n",
    "print(f\"Total Time Taken: {round((stop-start)/60, 2)} mins\")"
   ]
  },
  {
   "cell_type": "code",
   "execution_count": 3,
   "id": "c43fda8a-6f75-4165-8ec5-007fe07f8ce2",
   "metadata": {},
   "outputs": [
    {
     "data": {
      "text/plain": [
       "{'SERVICE': array(['order', 'king', 'guests', 'wait', 'time', 'call'], dtype=object),\n",
       " 'AMBIENCE': array(['pace', 'opinion', 'disgust', 'edge', 'lot', 'think'], dtype=object),\n",
       " 'FOOD': array(['pao', 'bowl', 'taste', 'food', 'peanuts', 'tofu', 'mix'],\n",
       "       dtype=object),\n",
       " 'PRICE': array(['bore', 'pay', 'mean'], dtype=object),\n",
       " 'PLACE': array(['area', 'door'], dtype=object)}"
      ]
     },
     "execution_count": 3,
     "metadata": {},
     "output_type": "execute_result"
    }
   ],
   "source": [
    "obj.aspCat"
   ]
  },
  {
   "cell_type": "code",
   "execution_count": 4,
   "id": "63a345a6-23e1-4d9c-8b59-7a1f21f88aae",
   "metadata": {},
   "outputs": [
    {
     "name": "stdout",
     "output_type": "stream",
     "text": [
      "Collecting Data...\n",
      "Structuring Reviews...\n",
      "Processing Reviews to remove noise...\n",
      "Getting Sentiments...\n",
      "Length of collected data: 247\n",
      "Length of final data: 333\n"
     ]
    },
    {
     "data": {
      "image/png": "[encoded data removed]",
      "text/plain": [
       "<Figure size 432x432 with 1 Axes>"
      ]
     },
     "metadata": {},
     "output_type": "display_data"
    },
    {
     "name": "stderr",
     "output_type": "stream",
     "text": [
      "/home/sarthak/Code/env/lib/python3.8/site-packages/pandas/util/_decorators.py:311: SettingWithCopyWarning: \n",
      "A value is trying to be set on a copy of a slice from a DataFrame\n",
      "\n",
      "See the caveats in the documentation: https://pandas.pydata.org/pandas-docs/stable/user_guide/indexing.html#returning-a-view-versus-a-copy\n",
      "  return func(*args, **kwargs)\n"
     ]
    },
    {
     "data": {
      "image/png": "[encoded data removed]",
      "text/plain": [
       "<Figure size 432x432 with 1 Axes>"
      ]
     },
     "metadata": {},
     "output_type": "display_data"
    },
    {
     "name": "stdout",
     "output_type": "stream",
     "text": [
      "Total Time Taken: 11.91 mins\n"
     ]
    }
   ],
   "source": [
    "# Testing the module for ChopChop Eurostop.\n",
    "start = time.time()\n",
    "url = \"https://www.google.com/maps/place/ChopChop+Eurostop/@59.2972832,15.2009381,15z/data=!4m5!3m4!1s0x0:0x9b177dc88b78bb49!8m2!3d59.2972832!4d15.2009381\"\n",
    "from main import get_aspect_reviews\n",
    "obj = get_aspect_reviews(url, datetime=6)\n",
    "obj.outDf.to_csv(\"eurostop_sentiments.csv\", index=None)\n",
    "stop = time.time()\n",
    "print(f\"Total Time Taken: {round((stop-start)/60, 2)} mins\")"
   ]
  },
  {
   "cell_type": "code",
   "execution_count": 5,
   "id": "45f5aa8d-f14e-4465-b987-592d71ce1a1d",
   "metadata": {},
   "outputs": [
    {
     "data": {
      "text/plain": [
       "{'SERVICE': array(['selection', 'order', 'service', 'wait', 'staff', 'start', 'time',\n",
       "        'kid', 'website', 'drive'], dtype=object),\n",
       " 'FOOD': array(['rice', 'spice', 'chicken', 'vegetarians', 'chop', 'taste',\n",
       "        'cashew', 'cashews', 'food', 'combo', 'lime', 'tofu', 'dish'],\n",
       "       dtype=object),\n",
       " 'PRICE': array(['receipt', 'price', 'portion', 'bore', 'face', 'problem', 'cash',\n",
       "        'money', 'case', 'disappointment', 'send'], dtype=object),\n",
       " 'AMBIENCE': array(['crowd', 'touch', 'shock', 'cold', 'smile', 'addition', 'screen',\n",
       "        'piece', 'coziness', 'use', 'experience'], dtype=object),\n",
       " 'PLACE': array(['restaurant', 'rest', 'friday', 'orange', 'base'], dtype=object)}"
      ]
     },
     "execution_count": 5,
     "metadata": {},
     "output_type": "execute_result"
    }
   ],
   "source": [
    "obj.aspCat"
   ]
  },
  {
   "cell_type": "code",
   "execution_count": 6,
   "id": "1fe63376-70d2-48a2-97fe-051070b4a61d",
   "metadata": {},
   "outputs": [
    {
     "name": "stdout",
     "output_type": "stream",
     "text": [
      "Collecting Data...\n",
      "Structuring Reviews...\n",
      "Processing Reviews to remove noise...\n",
      "Getting Sentiments...\n",
      "Length of collected data: 24\n",
      "Length of final data: 47\n"
     ]
    },
    {
     "data": {
      "image/png": "[encoded data removed]",
      "text/plain": [
       "<Figure size 432x432 with 1 Axes>"
      ]
     },
     "metadata": {},
     "output_type": "display_data"
    },
    {
     "name": "stderr",
     "output_type": "stream",
     "text": [
      "/home/sarthak/Code/env/lib/python3.8/site-packages/pandas/util/_decorators.py:311: SettingWithCopyWarning: \n",
      "A value is trying to be set on a copy of a slice from a DataFrame\n",
      "\n",
      "See the caveats in the documentation: https://pandas.pydata.org/pandas-docs/stable/user_guide/indexing.html#returning-a-view-versus-a-copy\n",
      "  return func(*args, **kwargs)\n"
     ]
    },
    {
     "data": {
      "image/png": "[encoded data removed]",
      "text/plain": [
       "<Figure size 432x432 with 1 Axes>"
      ]
     },
     "metadata": {},
     "output_type": "display_data"
    },
    {
     "name": "stdout",
     "output_type": "stream",
     "text": [
      "Total Time Taken: 1.39 mins\n"
     ]
    }
   ],
   "source": [
    "# Testing the module for Misora Sushi Vallentuna.\n",
    "start = time.time()\n",
    "url = \"https://www.google.com/maps/place/Misora+Sushi+Vallentuna/@59.5350313,18.0784048,15z/data=!4m2!3m1!1s0x0:0xc175f7f85e0273c4?sa=X&ved=2ahUKEwjKgKvqpMz2AhWtlYsKHWZGDbgQ_BJ6BAgyEAU\"\n",
    "from main import get_aspect_reviews\n",
    "obj = get_aspect_reviews(url, datetime=6)\n",
    "obj.outDf.to_csv(\"misora_sushi_vallentuna_sentiments.csv\", index=None)\n",
    "stop = time.time()\n",
    "print(f\"Total Time Taken: {round((stop-start)/60, 2)} mins\")"
   ]
  },
  {
   "cell_type": "code",
   "execution_count": 7,
   "id": "dfa44214-22e8-4be3-9a44-068ada69a239",
   "metadata": {},
   "outputs": [
    {
     "data": {
      "text/plain": [
       "{'FOOD': array(['rice', 'sauce', 'bowl', 'salmon', 'food'], dtype=object),\n",
       " 'SERVICE': array(['order', 'service', 'dishcloth', 'staff', 'time', 'tough', 'hand'],\n",
       "       dtype=object),\n",
       " 'PRICE': array(['price', 'response', 'torture'], dtype=object),\n",
       " 'AMBIENCE': array(['dissatisfaction', 'today', 'smell', 'praise', 'criticism',\n",
       "        'piece'], dtype=object),\n",
       " 'PLACE': array(['second', 'place', 'hawaii'], dtype=object)}"
      ]
     },
     "execution_count": 7,
     "metadata": {},
     "output_type": "execute_result"
    }
   ],
   "source": [
    "obj.aspCat"
   ]
  },
  {
   "cell_type": "code",
   "execution_count": 9,
   "id": "02534617-5cd5-4dfa-b2bc-59122aa63d41",
   "metadata": {
    "tags": []
   },
   "outputs": [
    {
     "name": "stdout",
     "output_type": "stream",
     "text": [
      "Collecting Data...\n",
      "Structuring Reviews...\n",
      "Processing Reviews to remove noise...\n",
      "Getting Sentiments...\n",
      "Length of collected data: 152\n",
      "Length of final data: 256\n"
     ]
    },
    {
     "data": {
      "image/png": "[encoded data removed]",
      "text/plain": [
       "<Figure size 432x432 with 1 Axes>"
      ]
     },
     "metadata": {},
     "output_type": "display_data"
    },
    {
     "name": "stderr",
     "output_type": "stream",
     "text": [
      "/home/sarthak/Code/env/lib/python3.8/site-packages/pandas/util/_decorators.py:311: SettingWithCopyWarning: \n",
      "A value is trying to be set on a copy of a slice from a DataFrame\n",
      "\n",
      "See the caveats in the documentation: https://pandas.pydata.org/pandas-docs/stable/user_guide/indexing.html#returning-a-view-versus-a-copy\n",
      "  return func(*args, **kwargs)\n"
     ]
    },
    {
     "data": {
      "image/png": "[encoded data removed]",
      "text/plain": [
       "<Figure size 432x432 with 1 Axes>"
      ]
     },
     "metadata": {},
     "output_type": "display_data"
    },
    {
     "name": "stdout",
     "output_type": "stream",
     "text": [
      "Total Time Taken: 7.12 mins\n"
     ]
    }
   ],
   "source": [
    "# Testing the module for Midan Odenplan.\n",
    "start = time.time()\n",
    "url = \"https://www.google.com/maps/place/Midan/@59.343584,18.0531105,15z/data=!4m2!3m1!1s0x0:0xb13c5c95e3562ca7?sa=X&ved=2ahUKEwih--y8psz2AhV1IbcAHWAVCwQQ_BJ6BAgkEAU\"\n",
    "from main import get_aspect_reviews\n",
    "obj = get_aspect_reviews(url, datetime=6)\n",
    "obj.outDf.to_csv(\"midan_odenplan_sentiments.csv\", index=None)\n",
    "stop = time.time()\n",
    "print(f\"Total Time Taken: {round((stop-start)/60, 2)} mins\")"
   ]
  },
  {
   "cell_type": "code",
   "execution_count": 10,
   "id": "73c3582a-95db-4628-afb4-7f979e45852e",
   "metadata": {},
   "outputs": [
    {
     "data": {
      "text/plain": [
       "{'SERVICE': array(['husband', 'service', 'sister', 'customers', 'contact', 'let',\n",
       "        'season', 'name', 'guy', 'care', 'order', 'star', 'advice', 'time',\n",
       "        'people', 'years', 'overcrowd', 'staff', 'go', 'court'],\n",
       "       dtype=object),\n",
       " 'AMBIENCE': array(['environment', 'scholars', 'attention', 'sweep', 'accord', 'music',\n",
       "        'experience', 'turn', 'pity', 'quality', 'decor', 'cleanliness',\n",
       "        'hygiene', 'rule', 'aspect', 'glass'], dtype=object),\n",
       " 'FOOD': array(['drink', 'chickpeas', 'bread', 'regions', 'falafel', 'shawarma',\n",
       "        'food', 'yogurt', 'kebab', 'meal', 'seed', 'cumin', 'paper',\n",
       "        'pizza', 'potatoes', 'taste', 'sandwich', 'leftovers', 'plate',\n",
       "        'tahini', 'kebabs', 'poison', 'lemon', 'sauce', 'meat',\n",
       "        'pomegranate', 'tazo', 'pita', 'dish'], dtype=object),\n",
       " 'PLACE': array(['table', 'plastic', 'days', 'crown', 'restaurant', 'date', 'base',\n",
       "        'place', 'stockholm', 'one', 'floor'], dtype=object),\n",
       " 'PRICE': array(['portion', 'rate', 'plat', 'cost', 'code', 'priority', 'waste',\n",
       "        'cause', 'problem', 'case', 'quantity', 'send', 'deal', 'price',\n",
       "        'pay', 'regret', 'surprise', 'money', 'mean'], dtype=object)}"
      ]
     },
     "execution_count": 10,
     "metadata": {},
     "output_type": "execute_result"
    }
   ],
   "source": [
    "obj.aspCat"
   ]
  },
  {
   "cell_type": "code",
   "execution_count": 11,
   "id": "99b86f61-dfb9-47b2-879d-61937dcc693d",
   "metadata": {},
   "outputs": [
    {
     "name": "stdout",
     "output_type": "stream",
     "text": [
      "Collecting Data...\n",
      "Structuring Reviews...\n",
      "Processing Reviews to remove noise...\n",
      "Getting Sentiments...\n",
      "Length of collected data: 42\n",
      "Length of final data: 68\n"
     ]
    },
    {
     "data": {
      "image/png": "[encoded data removed]",
      "text/plain": [
       "<Figure size 432x432 with 1 Axes>"
      ]
     },
     "metadata": {},
     "output_type": "display_data"
    },
    {
     "name": "stderr",
     "output_type": "stream",
     "text": [
      "/home/sarthak/Code/env/lib/python3.8/site-packages/pandas/util/_decorators.py:311: SettingWithCopyWarning: \n",
      "A value is trying to be set on a copy of a slice from a DataFrame\n",
      "\n",
      "See the caveats in the documentation: https://pandas.pydata.org/pandas-docs/stable/user_guide/indexing.html#returning-a-view-versus-a-copy\n",
      "  return func(*args, **kwargs)\n"
     ]
    },
    {
     "data": {
      "image/png": "[encoded data removed]",
      "text/plain": [
       "<Figure size 432x432 with 1 Axes>"
      ]
     },
     "metadata": {},
     "output_type": "display_data"
    },
    {
     "name": "stdout",
     "output_type": "stream",
     "text": [
      "Total Time Taken: 1.94 mins\n"
     ]
    }
   ],
   "source": [
    "# Testing the module for Rockin Grill.\n",
    "start = time.time()\n",
    "url = \"https://www.google.com/maps/place/Rockin+Grill/@59.3541114,18.0885143,15z/data=!4m2!3m1!1s0x0:0xb88b60769c513a1c?sa=X&ved=2ahUKEwi2uOy4p8z2AhXksosKHcqCBbkQ_BJ6BAgmEAU\"\n",
    "from main import get_aspect_reviews\n",
    "obj = get_aspect_reviews(url, datetime=6)sp\n",
    "obj.outDf.to_csv(\"rockin_grill_sentiments.csv\", index=None)\n",
    "stop = time.time()\n",
    "print(f\"Total Time Taken: {round((stop-start)/60, 2)} mins\")"
   ]
  },
  {
   "cell_type": "code",
   "execution_count": 13,
   "id": "a96746ab-fba8-4c30-b467-01255d3ee62d",
   "metadata": {},
   "outputs": [
    {
     "data": {
      "text/plain": [
       "{'FOOD': array(['fry', 'food'], dtype=object),\n",
       " 'SERVICE': array(['order', 'uber', 'staff'], dtype=object),\n",
       " 'PLACE': array(['room', 'place'], dtype=object),\n",
       " 'AMBIENCE': array(['addition'], dtype=object)}"
      ]
     },
     "execution_count": 13,
     "metadata": {},
     "output_type": "execute_result"
    }
   ],
   "source": [
    "obj.aspCat"
   ]
  },
  {
   "cell_type": "markdown",
   "id": "e39fb083-7ad2-49cb-88d4-22f77e7428ac",
   "metadata": {},
   "source": [
    "# Extract word embeddings of aspects."
   ]
  },
  {
   "cell_type": "code",
   "execution_count": 12,
   "id": "1e7b650b-7e21-4092-9466-da43d7d1e253",
   "metadata": {},
   "outputs": [],
   "source": [
    "import pandas as pd\n",
    "import numpy as np\n",
    "from sklearn.cluster import KMeans\n",
    "import matplotlib.pyplot as plt\n",
    "import seaborn as sns"
   ]
  },
  {
   "cell_type": "code",
   "execution_count": 36,
   "id": "4402aedd-4b45-4e49-a307-8b2a2302bdac",
   "metadata": {},
   "outputs": [
    {
     "name": "stderr",
     "output_type": "stream",
     "text": [
      "/home/sarthak/Code/env/lib/python3.8/site-packages/pandas/util/_decorators.py:311: SettingWithCopyWarning: \n",
      "A value is trying to be set on a copy of a slice from a DataFrame\n",
      "\n",
      "See the caveats in the documentation: https://pandas.pydata.org/pandas-docs/stable/user_guide/indexing.html#returning-a-view-versus-a-copy\n",
      "  return func(*args, **kwargs)\n"
     ]
    }
   ],
   "source": [
    "senDf = pd.read_csv(\"eurostop_sentiments.csv\")\n",
    "negRev = senDf[senDf[\"polarity\"]<0]\n",
    "negRev.dropna(inplace=True)\n",
    "asp = []\n",
    "for row in negRev.iterrows():\n",
    "    row = row[1]\n",
    "    asp.extend(row[\"aspects\"].split(\", \"))\n",
    "#aspects = set(negRev.aspects.values)\n",
    "#aspects\n",
    "asp = list(set(asp))"
   ]
  },
  {
   "cell_type": "code",
   "execution_count": 37,
   "id": "a30ad093-7568-4d51-bc10-59f65323d663",
   "metadata": {},
   "outputs": [],
   "source": [
    "noEmb = []\n",
    "glove_embeddings = {}\n",
    "\n",
    "with open('glove.6B/glove.6B.50d.txt', 'r') as fopen:\n",
    "    for line in fopen:\n",
    "        split_line = line.split()\n",
    "        word = split_line[0]\n",
    "        emb = np.array(split_line[1:], dtype=np.float64)\n",
    "        glove_embeddings[word] = emb\n",
    "\n",
    "word_embeddings = {}\n",
    "for word in asp:\n",
    "    if word in glove_embeddings.keys():\n",
    "        word_embeddings[word] = glove_embeddings[word]    \n",
    "    else:\n",
    "        #continue\n",
    "        noEmb.append(word)\n",
    "        #word_embeddings[word] = (np.random.uniform(-0.25, 0.25, 50))"
   ]
  },
  {
   "cell_type": "code",
   "execution_count": 38,
   "id": "874f2b0a-e1fb-46b4-be2e-ae074634c276",
   "metadata": {},
   "outputs": [
    {
     "data": {
      "text/plain": [
       "['padthai', 'yakunikun', 'liite', 'chopchop']"
      ]
     },
     "execution_count": 38,
     "metadata": {},
     "output_type": "execute_result"
    }
   ],
   "source": [
    "noEmb"
   ]
  },
  {
   "cell_type": "code",
   "execution_count": 39,
   "id": "fa8b5f94-8924-44de-a9c5-4a27c746c36f",
   "metadata": {
    "scrolled": true,
    "tags": []
   },
   "outputs": [],
   "source": [
    "wordEmbDf = pd.DataFrame({\"word\":word_embeddings.keys(), \"embedding\":word_embeddings.values()})\n",
    "wordEmbMat = np.zeros((len(wordEmbDf), 50))\n",
    "for i, row in enumerate(wordEmbDf.iterrows()):\n",
    "    row = row[1]\n",
    "    wordEmbMat[i] = row[\"embedding\"]"
   ]
  },
  {
   "cell_type": "code",
   "execution_count": 40,
   "id": "4eb671b6-eac4-42e1-b6e0-f4087de6a457",
   "metadata": {},
   "outputs": [],
   "source": [
    "from sklearn import preprocessing\n",
    "X_norm = preprocessing.normalize(wordEmbMat)"
   ]
  },
  {
   "cell_type": "code",
   "execution_count": null,
   "id": "6a747555-f9b3-4701-851b-25e073e2a672",
   "metadata": {},
   "outputs": [],
   "source": [
    "dists = []\n",
    "rng = [e for e in range(2, 25)]\n",
    "for i in rng:\n",
    "    km = KMeans(n_clusters=i, init=\"k-means++\", max_iter=300, random_state=0, n_init=10)\n",
    "    km.fit(X_norm)\n",
    "    dists.append(km.inertia_)\n",
    "\n",
    "#y_km = km.fit_predict(wordEmbMat)"
   ]
  },
  {
   "cell_type": "code",
   "execution_count": 16,
   "id": "c22205a3-6cbf-4056-9204-7d14d0cdaa11",
   "metadata": {},
   "outputs": [
    {
     "data": {
      "image/png": "[encoded data removed]",
      "text/plain": [
       "<Figure size 432x288 with 1 Axes>"
      ]
     },
     "metadata": {
      "needs_background": "light"
     },
     "output_type": "display_data"
    }
   ],
   "source": [
    "#plt.figure(figsize=(8,8))\n",
    "plt.plot(rng, dists)\n",
    "plt.scatter(rng, dists)\n",
    "plt.tight_layout()\n",
    "plt.show()"
   ]
  },
  {
   "cell_type": "code",
   "execution_count": 41,
   "id": "2c404209-6057-460e-8b59-5baf04e3f344",
   "metadata": {},
   "outputs": [
    {
     "name": "stdout",
     "output_type": "stream",
     "text": [
      "Iterations: 3\n",
      "Inertia: 26.04035008210997\n"
     ]
    }
   ],
   "source": [
    "km = KMeans(n_clusters=6, init=\"k-means++\", max_iter=300, random_state=42, n_init=25, copy_x=False)\n",
    "y_km = km.fit_predict(X_norm)\n",
    "print(f\"Iterations: {km.n_iter_}\")\n",
    "print(f\"Inertia: {km.inertia_}\")"
   ]
  },
  {
   "cell_type": "code",
   "execution_count": 42,
   "id": "4e53d117-955a-437a-b849-c9da7a220a02",
   "metadata": {},
   "outputs": [],
   "source": [
    "clusters = {}\n",
    "for i in range(6):\n",
    "    clusters[i] = []\n",
    "\n",
    "for cl, row in zip(y_km, wordEmbDf.iterrows()):\n",
    "    row = row[1]\n",
    "    clusters[cl].append(row[\"word\"])"
   ]
  },
  {
   "cell_type": "code",
   "execution_count": 43,
   "id": "b1abae03-78ec-4960-8a4a-3379774ccc7d",
   "metadata": {},
   "outputs": [],
   "source": [
    "from scipy.spatial.distance import euclidean"
   ]
  },
  {
   "cell_type": "code",
   "execution_count": 44,
   "id": "e305e29a-8582-47b1-8fe6-e7c205cf8a54",
   "metadata": {},
   "outputs": [],
   "source": [
    "x = []\n",
    "words = []\n",
    "for cen in km.cluster_centers_:\n",
    "    md = 200\n",
    "    word = \"\"\n",
    "    for i, e in enumerate(X_norm):\n",
    "        if md > euclidean(e, cen):\n",
    "            md = euclidean(e, cen)\n",
    "            word = wordEmbDf.iloc[i][\"word\"]\n",
    "            \n",
    "    x.append(md)\n",
    "    words.append(word)"
   ]
  },
  {
   "cell_type": "code",
   "execution_count": 58,
   "id": "baee0d27-5b3a-4e13-913a-d21cccff5105",
   "metadata": {},
   "outputs": [
    {
     "data": {
      "text/plain": [
       "['times',\n",
       " 'addition',\n",
       " 'staff',\n",
       " 'terminal',\n",
       " 'base',\n",
       " 'portions',\n",
       " 'friday',\n",
       " 'service',\n",
       " 'portion',\n",
       " 'website']"
      ]
     },
     "execution_count": 58,
     "metadata": {},
     "output_type": "execute_result"
    }
   ],
   "source": [
    "clusters[3]"
   ]
  },
  {
   "cell_type": "code",
   "execution_count": 35,
   "id": "7fb21ab9-a5fc-4bf4-aa20-5b40ce38f3eb",
   "metadata": {
    "scrolled": true,
    "tags": []
   },
   "outputs": [
    {
     "name": "stdout",
     "output_type": "stream",
     "text": [
      "Place | 20.56%\n",
      "\n",
      "Money | 11.21%\n",
      "\n",
      "Customers | 16.82%\n",
      "\n",
      "Food | 34.58%\n",
      "\n",
      "Hygiene and Service | 16.82%\n",
      "\n"
     ]
    }
   ],
   "source": [
    "categories_midan = [\"Place\", \"Money\", \"Customers\", \"Food\", \"Hygiene and Service\"]\n",
    "\n",
    "# Last category was also considered as food so merging that.\n",
    "clusters[3].extend(clusters[4])\n",
    "\n",
    "for e, cat in zip([0, 1, 2, 3, 5], categories_midan):\n",
    "    print(f\"{cat} | {round(len(clusters[e])/len(wordEmbDf.word)*100, 2)}%\")\n",
    "    print()"
   ]
  },
  {
   "cell_type": "code",
   "execution_count": 54,
   "id": "f8de279e-ba69-4b4d-92e1-c6c0b0eea8f3",
   "metadata": {},
   "outputs": [
    {
     "name": "stdout",
     "output_type": "stream",
     "text": [
      "Experience | 41.38%\n",
      "\n",
      "Food | 32.76%\n",
      "\n",
      "Money | 8.62%\n",
      "\n",
      "Service | 17.24%\n",
      "\n"
     ]
    }
   ],
   "source": [
    "categories_eurostop = [\"Experience\", \"Food\", \"Money\", \"Service\"]\n",
    "\n",
    "# Last category was also considered as food so merging that.\n",
    "clusters[1].extend(clusters[4])\n",
    "clusters[1].extend(clusters[5])\n",
    "\n",
    "for e, cat in zip([0,1,2,3], categories_eurostop):\n",
    "    print(f\"{cat} | {round(len(clusters[e])/len(wordEmbDf.word)*100, 2)}%\")\n",
    "    print()"
   ]
  },
  {
   "cell_type": "code",
   "execution_count": 57,
   "id": "0aa5f440-ba1c-4888-a966-f02c655f41d7",
   "metadata": {},
   "outputs": [],
   "source": [
    "np.savetxt(\"emb.tsv\", wordEmbMat, delimiter=\",\")\n",
    "wordEmbDf.word.to_csv(\"words.csv\", index=None)"
   ]
  },
  {
   "cell_type": "markdown",
   "id": "e9ec4e02-cf5c-46c5-bbc9-13870a90303b",
   "metadata": {},
   "source": [
    "# Misc"
   ]
  },
  {
   "cell_type": "markdown",
   "id": "2f7ca175-780c-4879-92d0-71bf7a4fc467",
   "metadata": {},
   "source": [
    "# Extracting aspect word counts for negative reviews."
   ]
  },
  {
   "cell_type": "code",
   "execution_count": 16,
   "id": "ba0f626e-d278-4028-beab-41a0047effbb",
   "metadata": {},
   "outputs": [],
   "source": [
    "df = pd.read_csv(\"negative_reviews_eskilstuna.csv\")\n",
    "df.dropna(inplace=True)"
   ]
  },
  {
   "cell_type": "code",
   "execution_count": 17,
   "id": "10059199-b771-4185-948b-1b881e0bad33",
   "metadata": {},
   "outputs": [],
   "source": [
    "aspectCntDict = {}\n",
    "for row in df.iterrows():\n",
    "    row = row[1]\n",
    "    for each in row[\"aspects\"].split(\", \"):\n",
    "        if each not in aspectCntDict.keys():\n",
    "            aspectCntDict[each] = 1\n",
    "        else:\n",
    "            aspectCntDict[each]+=1"
   ]
  },
  {
   "cell_type": "code",
   "execution_count": null,
   "id": "3d66c3f5-7b38-40f4-9c5f-4fbcf25e0f69",
   "metadata": {
    "scrolled": true,
    "tags": []
   },
   "outputs": [],
   "source": [
    "sorted(aspectCntDict.items(), key=lambda x: x[1], reverse=True)"
   ]
  },
  {
   "cell_type": "code",
   "execution_count": 25,
   "id": "16874e1a-3998-472f-a4cb-7ad27466ef02",
   "metadata": {},
   "outputs": [],
   "source": [
    "nounPhraseDict = {}\n",
    "for row in df.iterrows():\n",
    "    row = row[1]\n",
    "    noun_phrases = TextBlob(row[\"sentence\"]).noun_phrases\n",
    "    for e in noun_phrases:\n",
    "        if e in nounPhraseDict.keys():\n",
    "            nounPhraseDict[e]+=1\n",
    "        else:\n",
    "            nounPhraseDict[e] = 1"
   ]
  },
  {
   "cell_type": "code",
   "execution_count": null,
   "id": "2eac2844-41b0-4771-a24c-e1b28a8e06c1",
   "metadata": {
    "scrolled": true,
    "tags": []
   },
   "outputs": [],
   "source": [
    "sorted(nounPhraseDict.items(), key=lambda x: x[1], reverse=True)"
   ]
  },
  {
   "cell_type": "markdown",
   "id": "d120e7b8-70a3-45db-be3a-0988bd7203aa",
   "metadata": {},
   "source": [
    "## Using Spacy Method."
   ]
  },
  {
   "cell_type": "code",
   "execution_count": null,
   "id": "dab36078-495f-4be8-ad56-b33f8b6fdc51",
   "metadata": {},
   "outputs": [],
   "source": [
    "ext_aspects = []\n",
    "\n",
    "# Performing Aspect Extraction\n",
    "aspSenDf = pd.DataFrame()\n",
    "rows = []\n",
    "for sen in obj.reviewDf[\"review_clean\"]:\n",
    "    important = sp(sen)\n",
    "    descriptive_item = ''\n",
    "    target = ''\n",
    "    for token in important:\n",
    "        if token.dep_ == 'nsubj' and token.pos_ == 'NOUN':\n",
    "            target = token.text\n",
    "        if token.pos_ == 'ADJ':\n",
    "            added_terms = ''\n",
    "            for mini_token in token.children:\n",
    "                if mini_token.pos_ != 'ADV':\n",
    "                    continue\n",
    "                added_terms += mini_token.text + ' '\n",
    "            descriptive_item = added_terms + token.text\n",
    "                    \n",
    "        if target!=\"\" and descriptive_item!=\"\":\n",
    "            ext_aspects.append({'aspect': target,\n",
    "                'description': descriptive_item})\n",
    "        \n",
    "            rows.append({\"sentence\":sen,'aspect': target,\n",
    "                            'description': descriptive_item})\n",
    "\n",
    "            target = \"\"\n",
    "            descriptive_item = \"\"\n",
    "        \n",
    "aspSenDf = aspSenDf.append(rows, ignore_index=True)\n",
    "sentiments = []\n",
    "for desc in aspSenDf[\"description\"]:\n",
    "    sentiments.append(TextBlob(desc).sentiment)\n",
    "\n",
    "aspSenDf[\"sentiment\"] = sentiments\n",
    "\n",
    "aspSenDf.to_csv(\"SentimentAnalysisResultsSpacyMethod.csv\", index=None)"
   ]
  },
  {
   "cell_type": "markdown",
   "id": "52abb937-bd07-4dc2-8e91-bb21f05fe1a5",
   "metadata": {},
   "source": [
    "## Using Stanford method to get sentiment on description."
   ]
  },
  {
   "cell_type": "code",
   "execution_count": null,
   "id": "e6476f3b-d517-4661-90d8-e82cd0db9a65",
   "metadata": {},
   "outputs": [],
   "source": [
    "ext_aspects = []\n",
    "\n",
    "# Performing Aspect Extraction\n",
    "aspSenDf = pd.DataFrame()\n",
    "rows = []\n",
    "aspect_tags = [\"NN\", \"NNS\", \"NNP\", \"NNPS\"]\n",
    "description_tags = ['JJ','JJR','JJS']\n",
    "\n",
    "for sen in obj.reviewDf[\"review_clean\"]:\n",
    "    descriptive_item = ''\n",
    "    target = ''\n",
    "    tagged_sen = posTag(sen)\n",
    "    for word, token in tagged_sen:\n",
    "        if token in aspect_tags:\n",
    "            target = word\n",
    "        \n",
    "        if token in description_tags:\n",
    "            descriptive_item = word\n",
    "                    \n",
    "        if target!=\"\" and descriptive_item!=\"\":\n",
    "            ext_aspects.append({'aspect': target,\n",
    "                'description': descriptive_item})\n",
    "        \n",
    "            rows.append({\"sentence\":sen,'aspect': target,\n",
    "                            'description': descriptive_item})\n",
    "\n",
    "            target = \"\"\n",
    "            descriptive_item = \"\"\n",
    "        \n",
    "aspSenDf = aspSenDf.append(rows, ignore_index=True)\n",
    "\n",
    "polarity = []\n",
    "subjectivity = []\n",
    "for desc in aspSenDf[\"description\"]:\n",
    "    sentiment = TextBlob(desc).sentiment\n",
    "    polarity.append(sentiment[0])\n",
    "    subjectivity.append(sentiment[1])\n",
    "\n",
    "\n",
    "aspSenDf[\"polarity\"] = polarity\n",
    "aspSenDf[\"subjectivity\"] = subjectivity\n",
    "aspSenDf.to_csv(\"SentimentAnalysisResultsStanfordPOS_new.csv\", index=None)"
   ]
  },
  {
   "cell_type": "code",
   "execution_count": null,
   "id": "9370205b-4c46-41f2-951a-b1c620e3779e",
   "metadata": {},
   "outputs": [],
   "source": [
    "## Using Class for Misora Sushi Vallentuna.\n",
    "obj = SentimentAnalysis(\"Misora Sushi Vallentuna\")\n",
    "url = \"https://www.google.com/maps/place/Misora+Sushi+Vallentuna/@59.5350313,18.0784048,15z/data=!4m2!3m1!1s0x0:0xc175f7f85e0273c4?sa=X&ved=2ahUKEwjhoeOb5MT2AhXBxosBHTYhAtkQ_BJ6BAgvEAU\"\n",
    "obj.collectData(url)\n",
    "obj.processReviewDf()\n",
    "\n",
    "# 38 0 polarity values\n",
    "# 126 positive polarity values\n",
    "# 33 negative polarity values"
   ]
  },
  {
   "cell_type": "code",
   "execution_count": null,
   "id": "2f587233-1b94-422c-8802-ba39e1a9f246",
   "metadata": {},
   "outputs": [],
   "source": [
    "# Extracting sentiments using word window.\n",
    "for i, row in enumerate(aspSenDf.iterrows()):\n",
    "    row = row[1]\n",
    "    asp = row[\"aspect\"]\n",
    "    winInd = row[\"sentence\"].index(asp)\n",
    "    before, after = row[\"sentence\"].split(asp)\n",
    "    before, after = before.strip(), after.strip()\n",
    "    before  = before.split(\" \")[::-1][:min(4, len(before))][::-1]\n",
    "    window = before + [asp] + after.split(\" \")[:min(4, len(after))]\n",
    "    window = \" \".join([e for e in window])"
   ]
  },
  {
   "cell_type": "code",
   "execution_count": 9,
   "id": "a40b3942-25f6-4d88-ab3e-89506fcf21f6",
   "metadata": {},
   "outputs": [
    {
     "data": {
      "text/plain": [
       "'without chop chop , there is no friday coziness'"
      ]
     },
     "execution_count": 10,
     "metadata": {},
     "output_type": "execute_result"
    }
   ],
   "source": [
    "# Selecting between stemmer or lemmatizer.\n",
    "import nltk\n",
    "\n",
    "lemma = nltk.wordnet.WordNetLemmatizer()\n",
    "sno = nltk.stem.SnowballStemmer('english')\n",
    "a = \"without chop chop, there is no friday coziness\"\n",
    "\" \".join([lemma.lemmatize(wrd, 'v') for wrd in word_tokenize(a)])\n",
    "#sno.stem(\"\")"
   ]
  },
  {
   "cell_type": "code",
   "execution_count": 12,
   "id": "afe2b508-26af-4b79-9eb2-77d49edbe45d",
   "metadata": {},
   "outputs": [
    {
     "data": {
      "text/plain": [
       "Sentiment(polarity=0.11111111111111112, subjectivity=0.5666666666666668)"
      ]
     },
     "execution_count": 12,
     "metadata": {},
     "output_type": "execute_result"
    }
   ],
   "source": [
    "TextBlob(\"unfortunately badly clean in the premises and especially the toilet\").sentiment"
   ]
  },
  {
   "cell_type": "code",
   "execution_count": null,
   "id": "b3319bea-c21b-407f-ad71-4b3a8e774092",
   "metadata": {},
   "outputs": [],
   "source": [
    "# Checking if we can work with noun phrases.\n",
    "a = [\"as fast food goes, it is really delicious eating!\",\n",
    "    \"lots of guests during our visit and hence a little longer waiting time\",\n",
    "    \"extra good with the orange chicken dish !!! 🤩 …\",\n",
    "    \"good food, cold temperature inside\",\n",
    "    \"a little taste poor food for and va asian\",\n",
    "    \"large portions, recommend a combo with noodles, peanut chicken and spicy lime chicken! you are guaranteed to be full! …\"]\n",
    "\n",
    "for e in a:\n",
    "    print(TextBlob(e).noun_phrases)\n",
    "    print(TextBlob(e).tags)\n",
    "    print()\n",
    "\n",
    "# No, we can't."
   ]
  }
 ],
 "metadata": {
  "kernelspec": {
   "display_name": "Python 3 (ipykernel)",
   "language": "python",
   "name": "python3"
  },
  "language_info": {
   "codemirror_mode": {
    "name": "ipython",
    "version": 3
   },
   "file_extension": ".py",
   "mimetype": "text/x-python",
   "name": "python",
   "nbconvert_exporter": "python",
   "pygments_lexer": "ipython3",
   "version": "3.8.10"
  }
 },
 "nbformat": 4,
 "nbformat_minor": 5
}
