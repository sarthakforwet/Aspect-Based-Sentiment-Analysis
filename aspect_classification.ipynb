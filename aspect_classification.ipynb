{
 "cells": [
  {
   "cell_type": "code",
   "execution_count": 1,
   "id": "81e4526b-c3a4-435e-ab9c-ae32b6e264d3",
   "metadata": {},
   "outputs": [],
   "source": [
    "import pandas as pd\n",
    "import numpy as np\n",
    "import matplotlib.pyplot as plt\n",
    "import seaborn as sns\n",
    "from sklearn.preprocessing import LabelEncoder\n",
    "from sklearn.svm import SVC\n",
    "from sklearn.model_selection import train_test_split\n",
    "from sklearn.metrics import accuracy_score, classification_report\n",
    "from xgboost import XGBClassifier\n",
    "from sklearn.ensemble import RandomForestClassifier\n",
    "import pickle"
   ]
  },
  {
   "cell_type": "code",
   "execution_count": 2,
   "id": "34563b03-31fd-459a-9ee5-ad607bf9dbf8",
   "metadata": {},
   "outputs": [],
   "source": [
    "aspDf = pd.read_csv(\"aspect_classification/aspect_classification_data_v2.csv\")\n",
    "\n",
    "for row in aspDf.iterrows():\n",
    "    row = row[1]\n",
    "    row[\"trg\"] = row[\"trg\"].lower()\n",
    "    \n",
    "aspDf = aspDf.drop_duplicates(\"trg\")"
   ]
  },
  {
   "cell_type": "code",
   "execution_count": 3,
   "id": "331b036b-7b72-460e-9d65-3319a315a929",
   "metadata": {},
   "outputs": [],
   "source": [
    "aspDf.reset_index(drop=True, inplace=True)"
   ]
  },
  {
   "cell_type": "code",
   "execution_count": 4,
   "id": "07a1c8f0-c104-49ef-8277-cd5b19abbbb5",
   "metadata": {},
   "outputs": [],
   "source": [
    "aspDf.to_csv(\"aspect_classification/aspect_classification_data_v2.csv\", index=None)"
   ]
  },
  {
   "cell_type": "code",
   "execution_count": 3,
   "id": "2012cafc-283f-48fe-8035-0938c4d3ae69",
   "metadata": {},
   "outputs": [],
   "source": [
    "# For v1.\n",
    "for row in aspDf.iterrows():\n",
    "    row = row[1]\n",
    "    row[\"cat\"] = row[\"cat\"].split(\"#\")[0]\n",
    "\n",
    "aspDf = aspDf[aspDf[\"cat\"]!=\"DRINKS\"]\n",
    "aspDf.loc[aspDf[\"cat\"]==\"LOCATION\", \"cat\"] = \"RESTAURANT\""
   ]
  },
  {
   "cell_type": "code",
   "execution_count": 5,
   "id": "e2c0164d-caf0-4024-a84d-e2ab18a8bf7a",
   "metadata": {},
   "outputs": [
    {
     "data": {
      "text/plain": [
       "array(['PLACE', 'SERVICE', 'FOOD', 'PRICE', 'AMBIENCE'], dtype=object)"
      ]
     },
     "execution_count": 5,
     "metadata": {},
     "output_type": "execute_result"
    }
   ],
   "source": [
    "aspDf.cat.unique()"
   ]
  },
  {
   "cell_type": "code",
   "execution_count": 7,
   "id": "3779ebb2-87fe-43a9-abc6-0bc985c725d9",
   "metadata": {},
   "outputs": [],
   "source": [
    "# Adding price category. v2 already includes it.\n",
    "prices = [\"ante\", \"charge\", \"cost\", \"damage\", \"fee\", \"figure\", \"freight\", \"price tag\", \"fair market value\", \"market value\", \"valuation\", \"value\", \"asking price\", \"list price\", \"sticker price\", \"price point\", \"rate\", \"tariff\", \"unit price\", \"carrying charge\", \"overcharge\", \"service charge\", \"service fee\", \"surcharge\", \"deduction\", \"discount\", \"markdown\", \"reduction\", \"sale\", \"deposit\", \"down payment\", \"account\", \"bill\", \"check\", \"invoice\", \"tab\", \"premium\", \"bonanza\", \"jackpot\", \"treasure\", \"gratuity\", \"tip\", \"wages\", \"wage\", \"tariff\", \"money\", \"cash\", \"rate\", \"retail\", \"wholesale\", \"toll\", \"barter\", \"dues\"]\n",
    "prices = list(set(prices))\n",
    "priceDf = pd.DataFrame({\"trg\":prices, \"cat\":[\"PRICE\"]*len(prices)})"
   ]
  },
  {
   "cell_type": "code",
   "execution_count": 6,
   "id": "56ffd236-e990-483c-abc0-641906190d0b",
   "metadata": {},
   "outputs": [
    {
     "data": {
      "text/plain": [
       "FOOD        489\n",
       "PLACE        74\n",
       "SERVICE      72\n",
       "AMBIENCE     55\n",
       "PRICE        53\n",
       "Name: cat, dtype: int64"
      ]
     },
     "execution_count": 6,
     "metadata": {},
     "output_type": "execute_result"
    }
   ],
   "source": [
    "aspDf.cat.value_counts()"
   ]
  },
  {
   "cell_type": "code",
   "execution_count": 8,
   "id": "759d9436-9d2c-4646-9d2f-2c6733b4befe",
   "metadata": {},
   "outputs": [],
   "source": [
    "aspDf = pd.concat([aspDf, priceDf], axis=0)"
   ]
  },
  {
   "cell_type": "code",
   "execution_count": 28,
   "id": "ead46000-7315-4ffd-8e0f-5ccc8d1c0dbe",
   "metadata": {},
   "outputs": [],
   "source": [
    "noEmb = []\n",
    "glove_embeddings = {}\n",
    "\n",
    "with open('glove.6B/glove.6B.50d.txt', 'r') as fopen:\n",
    "    for line in fopen:\n",
    "        split_line = line.split()\n",
    "        word = split_line[0]\n",
    "        emb = np.array(split_line[1:], dtype=np.float64)\n",
    "        glove_embeddings[word] = emb\n",
    "\n",
    "word_embeddings = {}\n",
    "embMat = np.zeros((len(aspDf), 50))\n",
    "noEmb = []\n",
    "for i, word in enumerate(aspDf.trg.values):\n",
    "    word = word.lower()\n",
    "    if len(word.split(\" \"))>1:\n",
    "        wv = []\n",
    "        for wrd in word.split(\" \"):\n",
    "            if wrd in glove_embeddings.keys():\n",
    "                #word_embeddings[word] = glove_embeddings[word]\n",
    "                wv.append(glove_embeddings[wrd])\n",
    "\n",
    "            else:\n",
    "                noEmb.append(wrd)\n",
    "                #wv.append(np.random.uniform(-0.25, 0.25, 50))\n",
    "                wv.append(np.zeros((50))) # Give its answer\n",
    "        \n",
    "        #word_embeddings[word] = np.mean(wv, axis=0)\n",
    "        #embeddings.append(np.mean(wv, axis=0))\n",
    "        embMat[i] = np.mean(wv, axis=0)\n",
    "    \n",
    "    else:\n",
    "        if word in glove_embeddings.keys():\n",
    "            #word_embeddings[word] = glove_embeddings[word]\n",
    "            #embeddings.append(glove_embeddings[word])\n",
    "            embMat[i] = glove_embeddings[word]\n",
    "            \n",
    "        else:\n",
    "            noEmb.append(word)\n",
    "            #word_embeddings[word] = np.random.uniform(-0.25, 0.25, 50)\n",
    "            #embeddings.append(np.random.uniform(-0.25, 0.25, 50))\n",
    "            #embMat[i] = np.random.uniform(-0.25, 0.25, 50) \n",
    "            embMat[i] = np.zeros((50))# Give its answer."
   ]
  },
  {
   "cell_type": "code",
   "execution_count": 99,
   "id": "f4b994f8-5ebe-4e22-87ae-c3dfb282bdc4",
   "metadata": {},
   "outputs": [],
   "source": [
    "wrd = \"survise\" \n",
    "if wrd in glove_embeddings.keys():\n",
    "    print(\"Y\")"
   ]
  },
  {
   "cell_type": "code",
   "execution_count": 8,
   "id": "25ec2cb1-fbb6-4b35-96ff-3305ee3a6029",
   "metadata": {},
   "outputs": [
    {
     "name": "stdout",
     "output_type": "stream",
     "text": [
      "shabu-shabu\n",
      "mioposto\n",
      "\n"
     ]
    }
   ],
   "source": [
    "for e in noEmb:\n",
    "    print(e)"
   ]
  },
  {
   "cell_type": "code",
   "execution_count": 9,
   "id": "b958b7fe-fd5c-41ec-be9d-2fc167498dd2",
   "metadata": {},
   "outputs": [],
   "source": [
    "lbl = LabelEncoder()\n",
    "X, y = embMat, lbl.fit_transform(aspDf[\"cat\"])"
   ]
  },
  {
   "cell_type": "code",
   "execution_count": 10,
   "id": "e8bc87a3-9ac5-4a77-932a-940f4e0bfa35",
   "metadata": {},
   "outputs": [],
   "source": [
    "y = pd.Series(y)\n",
    "x_train, x_test, y_train, y_test = train_test_split(X, y, stratify=y, test_size=0.2, random_state=42)"
   ]
  },
  {
   "cell_type": "code",
   "execution_count": 11,
   "id": "6f0b392e-2083-4f95-bb20-9951238ec803",
   "metadata": {},
   "outputs": [
    {
     "data": {
      "text/plain": [
       "(array([1, 4, 3, 2, 0]),\n",
       " array(['FOOD', 'SERVICE', 'PRICE', 'PLACE', 'AMBIENCE'], dtype=object))"
      ]
     },
     "execution_count": 11,
     "metadata": {},
     "output_type": "execute_result"
    }
   ],
   "source": [
    "y_train.unique(), lbl.inverse_transform(y_train.unique())"
   ]
  },
  {
   "cell_type": "code",
   "execution_count": 12,
   "id": "f06dc0a6-7ddc-461c-bb89-5baf17be820f",
   "metadata": {},
   "outputs": [
    {
     "name": "stdout",
     "output_type": "stream",
     "text": [
      "Accuracy: 86.58%\n",
      "              precision    recall  f1-score   support\n",
      "\n",
      "           0       0.73      0.73      0.73        11\n",
      "           1       0.99      0.90      0.94        98\n",
      "           2       0.62      1.00      0.77        15\n",
      "           3       0.83      0.91      0.87        11\n",
      "           4       0.62      0.57      0.59        14\n",
      "\n",
      "    accuracy                           0.87       149\n",
      "   macro avg       0.76      0.82      0.78       149\n",
      "weighted avg       0.89      0.87      0.87       149\n",
      "\n"
     ]
    }
   ],
   "source": [
    "svm = SVC(kernel=\"rbf\", C=1.0, gamma=\"auto\", class_weight=\"balanced\")\n",
    "svm.fit(x_train, y_train)\n",
    "y_pred = svm.predict(x_test)\n",
    "print(f\"Accuracy: {round(accuracy_score(y_test, y_pred)*100, 2)}%\")\n",
    "print(classification_report(y_test, y_pred))"
   ]
  },
  {
   "cell_type": "code",
   "execution_count": 20,
   "id": "1eaa3945-63e4-436a-bb6e-a81e75f7d9ca",
   "metadata": {},
   "outputs": [
    {
     "data": {
      "text/plain": [
       "1    98\n",
       "2    15\n",
       "4    14\n",
       "3    11\n",
       "0    11\n",
       "dtype: int64"
      ]
     },
     "execution_count": 20,
     "metadata": {},
     "output_type": "execute_result"
    }
   ],
   "source": [
    "y_test.value_counts()"
   ]
  },
  {
   "cell_type": "code",
   "execution_count": 24,
   "id": "beaed1cb-ac78-48a0-ace4-c7a91b72d2ab",
   "metadata": {},
   "outputs": [
    {
     "data": {
      "image/png": "[encoded data removed]",
      "text/plain": [
       "<Figure size 432x288 with 2 Axes>"
      ]
     },
     "metadata": {
      "needs_background": "light"
     },
     "output_type": "display_data"
    }
   ],
   "source": [
    "from sklearn.metrics import confusion_matrix\n",
    "labels = [\"AMBIENCE\", \"FOOD\", \"PLACE\", \"PRICE\", \"SERVICE\"]\n",
    "cmat = confusion_matrix(y_test, y_pred)\n",
    "sns.heatmap(cmat, annot=True, xticklabels=labels, yticklabels=labels)\n",
    "plt.tight_layout()\n",
    "plt.title(\"Confusion Matrix: Aspect Classification\", fontdict={\"fontsize\":\"20\"})\n",
    "plt.show()"
   ]
  },
  {
   "cell_type": "code",
   "execution_count": 13,
   "id": "fe6fcae1-9787-47bd-b637-16c8794f8f49",
   "metadata": {},
   "outputs": [],
   "source": [
    "pickle.dump(svm, open(\"svm_model_v3.pkl\", \"wb\"))"
   ]
  },
  {
   "cell_type": "code",
   "execution_count": 14,
   "id": "1627102c-e619-4cc5-961f-a8f6f73c15eb",
   "metadata": {},
   "outputs": [],
   "source": [
    "pickle.dump(lbl, open(\"label_encoded_v3.pkl\", \"wb\"))"
   ]
  },
  {
   "cell_type": "code",
   "execution_count": 202,
   "id": "cd0a4bc9-e869-4ff1-94f4-65ccc82d47a4",
   "metadata": {},
   "outputs": [
    {
     "name": "stderr",
     "output_type": "stream",
     "text": [
      "/home/sarthak/Code/env/lib/python3.8/site-packages/xgboost/sklearn.py:1224: UserWarning: The use of label encoder in XGBClassifier is deprecated and will be removed in a future release. To remove this warning, do the following: 1) Pass option use_label_encoder=False when constructing XGBClassifier object; and 2) Encode your labels (y) as integers starting with 0, i.e. 0, 1, 2, ..., [num_class - 1].\n",
      "  warnings.warn(label_encoder_deprecation_msg, UserWarning)\n"
     ]
    },
    {
     "name": "stdout",
     "output_type": "stream",
     "text": [
      "Accuracy: 0.81\n",
      "              precision    recall  f1-score   support\n",
      "\n",
      "           0       0.77      0.74      0.76        23\n",
      "           1       0.89      0.96      0.92       116\n",
      "           2       0.00      0.00      0.00         2\n",
      "           3       0.38      0.26      0.31        23\n",
      "           4       0.73      0.73      0.73        15\n",
      "\n",
      "    accuracy                           0.81       179\n",
      "   macro avg       0.55      0.54      0.54       179\n",
      "weighted avg       0.78      0.81      0.80       179\n",
      "\n"
     ]
    }
   ],
   "source": [
    "# Using XGB \"no working for imbalanced class.\"\n",
    "xgb = XGBClassifier(n_estimators=500, verbosity=0, random_state=42, scale_pos_weight=10)\n",
    "xgb.fit(x_train, y_train)\n",
    "y_pred = xgb.predict(x_test)\n",
    "print(f\"Accuracy: {round(accuracy_score(y_test, y_pred), 2)}\")\n",
    "print(classification_report(y_test, y_pred))"
   ]
  },
  {
   "cell_type": "code",
   "execution_count": 205,
   "id": "c528bf7b-5294-44ed-8d02-a2b801654b8b",
   "metadata": {},
   "outputs": [
    {
     "name": "stdout",
     "output_type": "stream",
     "text": [
      "Accuracy: 0.81\n",
      "              precision    recall  f1-score   support\n",
      "\n",
      "           0       0.84      0.70      0.76        23\n",
      "           1       0.79      1.00      0.89       116\n",
      "           2       0.00      0.00      0.00         2\n",
      "           3       0.83      0.22      0.34        23\n",
      "           4       1.00      0.53      0.70        15\n",
      "\n",
      "    accuracy                           0.81       179\n",
      "   macro avg       0.69      0.49      0.54       179\n",
      "weighted avg       0.81      0.81      0.77       179\n",
      "\n"
     ]
    },
    {
     "name": "stderr",
     "output_type": "stream",
     "text": [
      "/home/sarthak/Code/env/lib/python3.8/site-packages/sklearn/metrics/_classification.py:1318: UndefinedMetricWarning: Precision and F-score are ill-defined and being set to 0.0 in labels with no predicted samples. Use `zero_division` parameter to control this behavior.\n",
      "  _warn_prf(average, modifier, msg_start, len(result))\n",
      "/home/sarthak/Code/env/lib/python3.8/site-packages/sklearn/metrics/_classification.py:1318: UndefinedMetricWarning: Precision and F-score are ill-defined and being set to 0.0 in labels with no predicted samples. Use `zero_division` parameter to control this behavior.\n",
      "  _warn_prf(average, modifier, msg_start, len(result))\n",
      "/home/sarthak/Code/env/lib/python3.8/site-packages/sklearn/metrics/_classification.py:1318: UndefinedMetricWarning: Precision and F-score are ill-defined and being set to 0.0 in labels with no predicted samples. Use `zero_division` parameter to control this behavior.\n",
      "  _warn_prf(average, modifier, msg_start, len(result))\n"
     ]
    }
   ],
   "source": [
    "# Using RandomForest\n",
    "rf = RandomForestClassifier(n_estimators=300, random_state=42, class_weight=\"balanced\")\n",
    "rf.fit(x_train, y_train)\n",
    "y_pred = rf.predict(x_test)\n",
    "print(f\"Accuracy: {round(accuracy_score(y_test, y_pred), 2)}\")\n",
    "print(classification_report(y_test, y_pred))"
   ]
  },
  {
   "cell_type": "code",
   "execution_count": 206,
   "id": "f8cbc358-6ef2-485f-932d-16f9b06fc4d9",
   "metadata": {},
   "outputs": [
    {
     "name": "stderr",
     "output_type": "stream",
     "text": [
      "/home/sarthak/Code/env/lib/python3.8/site-packages/pandas/util/_decorators.py:311: SettingWithCopyWarning: \n",
      "A value is trying to be set on a copy of a slice from a DataFrame\n",
      "\n",
      "See the caveats in the documentation: https://pandas.pydata.org/pandas-docs/stable/user_guide/indexing.html#returning-a-view-versus-a-copy\n",
      "  return func(*args, **kwargs)\n"
     ]
    }
   ],
   "source": [
    "senDf = pd.read_csv(\"midan_odenplan_sentiments.csv\")\n",
    "negRev = senDf[senDf[\"polarity\"]<0]\n",
    "negRev.dropna(inplace=True)\n",
    "asp = []\n",
    "for row in negRev.iterrows():\n",
    "    row = row[1]\n",
    "    asp.extend(row[\"aspects\"].split(\", \"))\n",
    "#aspects = set(negRev.aspects.values)\n",
    "#aspects\n",
    "asp = list(set(asp))"
   ]
  },
  {
   "cell_type": "code",
   "execution_count": 207,
   "id": "b8222b0e-1835-462d-9e39-e0bb5b9752f5",
   "metadata": {},
   "outputs": [],
   "source": [
    "glove_embeddings = {}\n",
    "\n",
    "with open('glove.6B/glove.6B.50d.txt', 'r') as fopen:\n",
    "    for line in fopen:\n",
    "        split_line = line.split()\n",
    "        word = split_line[0]\n",
    "        emb = np.array(split_line[1:], dtype=np.float64)\n",
    "        glove_embeddings[word] = emb\n",
    "\n",
    "word_embeddings = {}\n",
    "for word in asp:\n",
    "    if word in glove_embeddings.keys():\n",
    "        word_embeddings[word] = glove_embeddings[word]    \n",
    "    else:\n",
    "        continue\n",
    "        #noEmb.append(word)\n",
    "        #word_embeddings[word] = (np.random.uniform(-0.25, 0.25, 50))"
   ]
  },
  {
   "cell_type": "code",
   "execution_count": 208,
   "id": "415f86f8-ec92-4bbe-96c7-1db4a14b3541",
   "metadata": {},
   "outputs": [],
   "source": [
    "wordEmbDf = pd.DataFrame({\"word\":word_embeddings.keys(), \"embedding\":word_embeddings.values()})"
   ]
  },
  {
   "cell_type": "code",
   "execution_count": 209,
   "id": "9ed9474e-1fdc-4d04-a760-c0069ee2f059",
   "metadata": {},
   "outputs": [],
   "source": [
    "predCategory = []\n",
    "for row in wordEmbDf.iterrows():\n",
    "    row = row[1]\n",
    "    pred = lbl.inverse_transform(svm.predict(np.expand_dims(row[\"embedding\"], axis=0)))\n",
    "    predCategory.append(pred[0])"
   ]
  },
  {
   "cell_type": "code",
   "execution_count": 210,
   "id": "c69d540c-f386-406b-939b-6d619b1f1298",
   "metadata": {},
   "outputs": [],
   "source": [
    "wordEmbDf[\"predCategory\"] = predCategory"
   ]
  },
  {
   "cell_type": "code",
   "execution_count": 183,
   "id": "197401aa-5800-4f94-bcf2-9ddb1afd0ae7",
   "metadata": {},
   "outputs": [],
   "source": [
    "wordEmbDf.to_csv(\"aspect_classification/word_emb_df_midan.csv\", index=None)"
   ]
  },
  {
   "cell_type": "code",
   "execution_count": 211,
   "id": "fcfdd4f6-155a-477d-88aa-9823cb97f1bf",
   "metadata": {},
   "outputs": [
    {
     "data": {
      "text/plain": [
       "FOOD          580\n",
       "RESTAURANT    115\n",
       "AMBIENCE      113\n",
       "SERVICE        73\n",
       "LOCATION       13\n",
       "Name: cat, dtype: int64"
      ]
     },
     "execution_count": 211,
     "metadata": {},
     "output_type": "execute_result"
    }
   ],
   "source": [
    "aspDf.cat.value_counts()"
   ]
  },
  {
   "cell_type": "code",
   "execution_count": 232,
   "id": "846ffd6f-d1b9-475e-b034-be59d8cd2282",
   "metadata": {},
   "outputs": [
    {
     "name": "stdout",
     "output_type": "stream",
     "text": [
      "Category: SERVICE, 20.56%\n",
      "complaint, scholars, code, people, customers, money, guys, times, priority, service, give, advice, staff, problem, sister, husband, contact, attention, hygiene, care, let, star, \n",
      "\n",
      "Category: AMBIENCE, 17.76%\n",
      "cleanliness, aspect, importance, concept, glass, years, plastic, mean, thing, music, are, table, pity, floor, something, lot, decor, bit, experience, \n",
      "\n",
      "Category: RESTAURANT, 20.56%\n",
      "season, price, oc, kroner, ist, prices, rate, restaurant, paper, crown, stockholm, days, raise, zero, date, order, disappointment, cost, expectations, deal, rule, place, \n",
      "\n",
      "Category: FOOD, 34.58%\n",
      "meat, bread, leftovers, quality, kebab, seeds, tazo, waste, sandwich, pita, pomegranate, cumin, drying, food, quantity, kebabs, taste, yogurt, sauces, drink, dish, potatoes, rice, lemon, regions, seasoning, fries, chickpeas, pizza, poisoning, tahini, plate, amount, plates, falafel, shawarma, meal, \n",
      "\n",
      "Category: LOCATION, 6.54%\n",
      "name, case, turn, places, court, portion, way, \n",
      "\n"
     ]
    }
   ],
   "source": [
    "portions = []\n",
    "labels = []\n",
    "for cat in wordEmbDf.predCategory.unique():\n",
    "    tmp = wordEmbDf[wordEmbDf[\"predCategory\"]== cat]\n",
    "    print(f\"Category: {cat}, {round(len(tmp)/len(wordEmbDf)*100, 2)}%\")\n",
    "    portions.append(round(len(tmp)/len(wordEmbDf)*100, 2))\n",
    "    labels.append(cat)\n",
    "    for e in tmp[\"word\"].values:\n",
    "        print(e, end=\", \")\n",
    "    print(\"\\n\")"
   ]
  },
  {
   "cell_type": "code",
   "execution_count": 241,
   "id": "b5ed9efa-64c2-44d9-9590-b71b372f20ab",
   "metadata": {},
   "outputs": [
    {
     "data": {
      "image/png": "[encoded data removed]",
      "text/plain": [
       "<Figure size 432x288 with 1 Axes>"
      ]
     },
     "metadata": {},
     "output_type": "display_data"
    }
   ],
   "source": [
    "plt.pie(portions, labels=labels, autopct=\"%.2f%%\")\n",
    "plt.show()"
   ]
  }
 ],
 "metadata": {
  "kernelspec": {
   "display_name": "Python 3 (ipykernel)",
   "language": "python",
   "name": "python3"
  },
  "language_info": {
   "codemirror_mode": {
    "name": "ipython",
    "version": 3
   },
   "file_extension": ".py",
   "mimetype": "text/x-python",
   "name": "python",
   "nbconvert_exporter": "python",
   "pygments_lexer": "ipython3",
   "version": "3.8.10"
  }
 },
 "nbformat": 4,
 "nbformat_minor": 5
}
