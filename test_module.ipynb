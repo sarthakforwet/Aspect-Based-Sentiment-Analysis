{
 "cells": [
  {
   "cell_type": "code",
   "execution_count": 2,
   "id": "88692737-9047-4f92-acf6-2996a9ae669a",
   "metadata": {},
   "outputs": [],
   "source": [
    "import time\n",
    "import pandas as pd\n",
    "import numpy as np\n",
    "from main import get_aspect_reviews"
   ]
  },
  {
   "cell_type": "code",
   "execution_count": null,
   "id": "2d746a92-fa9c-4d0e-96a3-a62dd6a8ff30",
   "metadata": {},
   "outputs": [],
   "source": [
    "# Place shop's URL here.\n",
    "URL = \"https://www.google.com/maps/place/ChopChop+Asian+Express/@59.3905008,16.4658164,15z/data=!4m5!3m4!1s0x0:0xb7f5c8a9d6cf8e01!8m2!3d59.390509!4d16.465848\"\n",
    "TIME = 6"
   ]
  },
  {
   "cell_type": "code",
   "execution_count": null,
   "id": "ec3f5e5f-2a6b-4699-b751-21458ed278cb",
   "metadata": {},
   "outputs": [],
   "source": [
    "# The module will output two pie charts and the details about algorithm.\n",
    "start = time.time()\n",
    "obj = get_aspect_reviews(URL, datetime=TIME)\n",
    "stop = time.time()\n",
    "print(f\"Total Time Taken: {round((stop-start)/60, 2)} mins\")"
   ]
  },
  {
   "cell_type": "code",
   "execution_count": null,
   "id": "248b97ba-0ef9-4f68-94e8-978cabb36519",
   "metadata": {},
   "outputs": [],
   "source": [
    "# One can access aspect categories via.\n",
    "obj.aspCat"
   ]
  }
 ],
 "metadata": {
  "kernelspec": {
   "display_name": "Python 3 (ipykernel)",
   "language": "python",
   "name": "python3"
  },
  "language_info": {
   "codemirror_mode": {
    "name": "ipython",
    "version": 3
   },
   "file_extension": ".py",
   "mimetype": "text/x-python",
   "name": "python",
   "nbconvert_exporter": "python",
   "pygments_lexer": "ipython3",
   "version": "3.8.10"
  }
 },
 "nbformat": 4,
 "nbformat_minor": 5
}
